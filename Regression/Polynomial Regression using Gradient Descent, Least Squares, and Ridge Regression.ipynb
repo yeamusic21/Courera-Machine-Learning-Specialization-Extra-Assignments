{
 "cells": [
  {
   "cell_type": "markdown",
   "metadata": {},
   "source": [
    "# Polynomial Regression using Gradient Descent, Least Squares, and Ridge Regression"
   ]
  },
  {
   "cell_type": "markdown",
   "metadata": {},
   "source": [
    "The point of this workbook is to create a line and add fake noise, then solve for the true line using gradient descent while applying ridge regression. \n",
    "\n",
    "Few changes here from our simple linear regression using gradient descent workbook:\n",
    " - Added a few features (squared and 3rd degree polynomials)\n",
    " - coefficient updates follow the ridge formulas which can be seen below\n",
    "\n",
    "Ridge Regression algorithm can be found in Week4 \"Approach 2: gradient descent\" video.\n",
    "<img src=\"https://github.com/yeamusic21/Coursera-Machine-Learning-Specialization-Extra-Assignments/blob/master/Regression/img/ridge_algorithm.PNG?raw=true\">\n",
    "\n",
    "The only difference I use from the above algorithm is the convergence criteria where I'm looking for a small difference between the current RSS and previous RSS prior to the latest coefficient update.\n",
    "\n",
    "In Part1 we solve using little to no L2 regularization and in Part2 we turn up the L2 regularization and the hope is we witness smaller coefficients."
   ]
  },
  {
   "cell_type": "markdown",
   "metadata": {},
   "source": [
    "## Part 1:"
   ]
  },
  {
   "cell_type": "markdown",
   "metadata": {},
   "source": [
    "## Create Some Fake Data to Fit"
   ]
  },
  {
   "cell_type": "code",
   "execution_count": 36,
   "metadata": {
    "collapsed": false
   },
   "outputs": [
    {
     "data": {
      "image/png": "[encoded data removed]",
      "text/plain": [
       "<matplotlib.figure.Figure at 0xa07a940>"
      ]
     },
     "metadata": {},
     "output_type": "display_data"
    }
   ],
   "source": [
    "#### CREATE FAKE DATA\n",
    "\n",
    "# imports\n",
    "import numpy as np\n",
    "import matplotlib.pyplot as plt\n",
    "%matplotlib inline\n",
    "\n",
    "# simulate some data\n",
    "column1 = np.repeat(1, 100)\n",
    "column2 = np.arange(-5,5,.1)\n",
    "column3 = (column2**2)/1\n",
    "column4 = (column2**3)/10\n",
    "column5 = (column2**4)/100\n",
    "X = np.matrix([column1,column2,column3,column4,column5])\n",
    "X = X.transpose()\n",
    "# make up some parameters\n",
    "B = np.matrix(np.array([20.345,20.961,15.109,10.432,6.657]))\n",
    "B = B.transpose()\n",
    "# create some fake noise\n",
    "e = np.matrix(np.random.normal(0, 100, 100))\n",
    "e = e.transpose()\n",
    "# finally, create fake response data\n",
    "Y = X*B + e\n",
    "\n",
    "# plot our fake data to make sure it looks as we would expect (linear relationship with noise)\n",
    "plt.scatter(X[:,1], Y)\n",
    "plt.title('Fake Data Scatter Plot')\n",
    "plt.xlabel(\"Data (X)\")\n",
    "plt.ylabel(\"Response (Y)\")\n",
    "plt.show()"
   ]
  },
  {
   "cell_type": "markdown",
   "metadata": {},
   "source": [
    "So we have a lot of noise here and our true coefficients are on the larger side.  This should make for a nice dataset for playing with ridge regression.  The flexiblity and large coefficients we used to create the data should hopefully result in a final model with large coefficients.  Then we can use our ridge regression parameter to soften our coefficients.  The large noise we put in the model should give us room to soften our coefficients."
   ]
  },
  {
   "cell_type": "markdown",
   "metadata": {},
   "source": [
    "## Solve For Coefficients Using Gradient Descent & Least Squares"
   ]
  },
  {
   "cell_type": "markdown",
   "metadata": {},
   "source": [
    "### First we're going to use a low value for L2 regularization"
   ]
  },
  {
   "cell_type": "code",
   "execution_count": 49,
   "metadata": {
    "collapsed": false
   },
   "outputs": [
    {
     "name": "stdout",
     "output_type": "stream",
     "text": [
      "The estimated Coefficients are:\n",
      "[[ 40.89516187]\n",
      " [ 21.67248177]\n",
      " [ 13.93094776]\n",
      " [ 12.894458  ]\n",
      " [ 12.85128087]]\n",
      "The true Coefficients are:\n",
      "[[ 20.345]\n",
      " [ 20.961]\n",
      " [ 15.109]\n",
      " [ 10.432]\n",
      " [  6.657]]\n"
     ]
    },
    {
     "data": {
      "image/png": "[encoded data removed]",
      "text/plain": [
       "<matplotlib.figure.Figure at 0xa074668>"
      ]
     },
     "metadata": {},
     "output_type": "display_data"
    },
    {
     "name": "stdout",
     "output_type": "stream",
     "text": [
      "total iterations to convergence:\n",
      "254753\n",
      "total minutes to convergence:\n",
      "0.745299998919\n"
     ]
    }
   ],
   "source": [
    "#### SOLVE FOR COEFFICIENTS USING GRADIENT DESCENT & LEAST SQUARES\n",
    "\n",
    "import time\n",
    "t0 = time.time()\n",
    "\n",
    "# set N = size of dataset\n",
    "N = X[:,1].size\n",
    "N = float(N)\n",
    "\n",
    "# initialize coefficients \n",
    "Bhat = np.matrix(np.array([1.0,1.0,1.0,1.0,1.0]))\n",
    "Bhat = Bhat.transpose()\n",
    "# initialize convergence flag\n",
    "convergence_flag = 0\n",
    "# initalize iteration counter\n",
    "iterations = 0\n",
    "# Set learning Rate\n",
    "learning_rate = 1e-4\n",
    "# Set L2 regularization\n",
    "L2 = 0.1\n",
    "# save RSS history\n",
    "RSS_history = []\n",
    "\n",
    "# Gradient Descent\n",
    "while (convergence_flag == 0):\n",
    "    iterations = iterations + 1\n",
    "    # compute RSS   \n",
    "    residuals = Y-(X*Bhat)\n",
    "    RS = np.square(residuals)\n",
    "    RSS = RS.sum()\n",
    "    # update coefficients:\n",
    "    # intercept\n",
    "    residuals = Y-(X*Bhat)\n",
    "    derivative = residuals.sum()\n",
    "    Bhat[0,:] = Bhat[0,:] + (1/(2*N))*(learning_rate)*(derivative)\n",
    "    for i in range(1,len(Bhat)):\n",
    "        derivative = residuals.transpose()*X[:,i]\n",
    "        Bhat[i,:] = (1-2*learning_rate*L2)*Bhat[i,:] + (learning_rate)*(derivative)   \n",
    "    # check for convergence\n",
    "    # compute RSS   \n",
    "    residuals = Y-(X*Bhat)\n",
    "    RS = np.square(residuals)\n",
    "    RSS_new = RS.sum()\n",
    "    if (abs(RSS_new-RSS)<0.001):\n",
    "        convergence_flag = 1\n",
    "    RSS_history.append(RSS)\n",
    "\n",
    "# print estimated coefficients     \n",
    "print \"The estimated Coefficients are:\"\n",
    "print Bhat\n",
    "# print true coefficients\n",
    "print \"The true Coefficients are:\"\n",
    "print B\n",
    "\n",
    "plt.scatter(X[:,1], Y)\n",
    "plt.plot(X[:,1], X*Bhat, linewidth=2.0)\n",
    "plt.title('Search Scatter Plot')\n",
    "plt.xlabel(\"Data (X)\")\n",
    "plt.ylabel(\"Response (Y)\")\n",
    "plt.show()\n",
    "\n",
    "print \"total iterations to convergence:\"\n",
    "print iterations\n",
    "\n",
    "t1 = time.time()\n",
    "total = t1-t0\n",
    "print \"total minutes to convergence:\"\n",
    "print total/60.0"
   ]
  },
  {
   "cell_type": "markdown",
   "metadata": {},
   "source": [
    "So it looks like our coefficients are large as we wanted and close enough to our true coefficients given the noise we added.  Looking at the scatter plot, things look good!"
   ]
  },
  {
   "cell_type": "code",
   "execution_count": 58,
   "metadata": {
    "collapsed": false
   },
   "outputs": [
    {
     "data": {
      "image/png": "[encoded data removed]",
      "text/plain": [
       "<matplotlib.figure.Figure at 0xa02f828>"
      ]
     },
     "metadata": {},
     "output_type": "display_data"
    }
   ],
   "source": [
    "plt.plot(range(0,iterations-100), RSS_history[100:], linewidth=2.0)\n",
    "plt.title('RSS History')\n",
    "plt.xlabel(\"iterations\")\n",
    "plt.ylabel(\"RSS\")\n",
    "plt.show()"
   ]
  },
  {
   "cell_type": "markdown",
   "metadata": {},
   "source": [
    "Thought I would add a RSS history plot just for kicks.  :-).  I removed the first 100 observations from the history because we start off so far away from our optimal solution that thouse RSS values were so big they completely distorted the plot."
   ]
  },
  {
   "cell_type": "markdown",
   "metadata": {},
   "source": [
    "## Part 2: "
   ]
  },
  {
   "cell_type": "markdown",
   "metadata": {},
   "source": [
    "## Solve For Coefficients Using Gradient Descent & Least Squares"
   ]
  },
  {
   "cell_type": "markdown",
   "metadata": {},
   "source": [
    "### Now we're going to use a larger value for L2 regularization and our new coefficients should be smaller."
   ]
  },
  {
   "cell_type": "code",
   "execution_count": 60,
   "metadata": {
    "collapsed": false
   },
   "outputs": [
    {
     "name": "stdout",
     "output_type": "stream",
     "text": [
      "The estimated Coefficients are:\n",
      "[[ 42.2257499 ]\n",
      " [  7.13298226]\n",
      " [ 13.36005023]\n",
      " [ 10.87092728]\n",
      " [  2.50140099]]\n",
      "The true Coefficients are:\n",
      "[[ 20.345]\n",
      " [ 20.961]\n",
      " [ 15.109]\n",
      " [ 10.432]\n",
      " [  6.657]]\n"
     ]
    },
    {
     "data": {
      "image/png": "[encoded data removed]",
      "text/plain": [
       "<matplotlib.figure.Figure at 0xa8f4a58>"
      ]
     },
     "metadata": {},
     "output_type": "display_data"
    },
    {
     "name": "stdout",
     "output_type": "stream",
     "text": [
      "total iterations to convergence:\n",
      "330847\n",
      "total minutes to convergence:\n",
      "0.969116667906\n"
     ]
    }
   ],
   "source": [
    "#### SOLVE FOR COEFFICIENTS USING GRADIENT DESCENT & LEAST SQUARES\n",
    "\n",
    "import time\n",
    "t0 = time.time()\n",
    "\n",
    "# set N = size of dataset\n",
    "N = X[:,1].size\n",
    "N = float(N)\n",
    "\n",
    "# initialize coefficients \n",
    "Bhat = np.matrix(np.array([1.0,1.0,1.0,1.0,1.0]))\n",
    "Bhat = Bhat.transpose()\n",
    "# initialize convergence flag\n",
    "convergence_flag = 0\n",
    "# initalize iteration counter\n",
    "iterations = 0\n",
    "# Set learning Rate\n",
    "learning_rate = 1e-5\n",
    "# Set L2 regularization\n",
    "L2 = 1000\n",
    "\n",
    "# convergence_flag == 0\n",
    "# iterations < 20000000, 4000000\n",
    "while (convergence_flag == 0):\n",
    "    iterations = iterations + 1\n",
    "    # compute RSS   \n",
    "    residuals = Y-(X*Bhat)\n",
    "    RS = np.square(residuals)\n",
    "    RSS = RS.sum()\n",
    "    # update coefficients:\n",
    "    # intercept\n",
    "    residuals = Y-(X*Bhat)\n",
    "    derivative = residuals.sum()\n",
    "    Bhat[0,:] = Bhat[0,:] + (1/(2*N))*(learning_rate)*(derivative)\n",
    "    for i in range(1,len(Bhat)):\n",
    "        derivative = residuals.transpose()*X[:,i]\n",
    "        Bhat[i,:] = (1-2*learning_rate*L2)*Bhat[i,:] + (learning_rate)*(derivative)\n",
    "        # 2nd degree\n",
    "        #residual_sum = residuals.transpose()*X[:,2]\n",
    "        #Bhat_new_2 = (1-2*learning_rate*L2)*Bhat[2,:] + (1/(2*N))*(learning_rate)*(residual_sum)    \n",
    "    # check for convergence\n",
    "    # compute RSS   \n",
    "    residuals = Y-(X*Bhat)\n",
    "    RS = np.square(residuals)\n",
    "    RSS_new = RS.sum()\n",
    "    if (abs(RSS_new-RSS)<0.001):\n",
    "        convergence_flag = 1\n",
    "\n",
    "# print estimated coefficients     \n",
    "print \"The estimated Coefficients are:\"\n",
    "print Bhat\n",
    "# print true coefficients\n",
    "print \"The true Coefficients are:\"\n",
    "print B\n",
    "\n",
    "plt.scatter(X[:,1], Y)\n",
    "plt.plot(X[:,1], X*Bhat, linewidth=2.0)\n",
    "plt.title('Search Scatter Plot')\n",
    "plt.xlabel(\"Data (X)\")\n",
    "plt.ylabel(\"Response (Y)\")\n",
    "plt.show()\n",
    "\n",
    "print \"total iterations to convergence:\"\n",
    "print iterations\n",
    "\n",
    "t1 = time.time()\n",
    "total = t1-t0\n",
    "print \"total minutes to convergence:\"\n",
    "print total/60.0"
   ]
  },
  {
   "cell_type": "markdown",
   "metadata": {},
   "source": [
    "### Our coefficients are smaller!"
   ]
  },
  {
   "cell_type": "markdown",
   "metadata": {
    "collapsed": true
   },
   "source": [
    "So our intercept is slightly larger but this is not surprising since we're softening the flexibility of our model by softening our coefficients overall.  Our other coefficients are definitely smaller and we can see our new model is not as flexible as our previous model."
   ]
  },
  {
   "cell_type": "code",
   "execution_count": null,
   "metadata": {
    "collapsed": true
   },
   "outputs": [],
   "source": []
  }
 ],
 "metadata": {
  "kernelspec": {
   "display_name": "Python 2",
   "language": "python",
   "name": "python2"
  },
  "language_info": {
   "codemirror_mode": {
    "name": "ipython",
    "version": 2
   },
   "file_extension": ".py",
   "mimetype": "text/x-python",
   "name": "python",
   "nbconvert_exporter": "python",
   "pygments_lexer": "ipython2",
   "version": "2.7.11"
  }
 },
 "nbformat": 4,
 "nbformat_minor": 0
}
