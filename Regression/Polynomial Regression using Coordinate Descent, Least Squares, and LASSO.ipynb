{
 "cells": [
  {
   "cell_type": "markdown",
   "metadata": {},
   "source": [
    "# Polynomial Regression using Coordinate Descent, Least Squares, and LASSO\n",
    "\n",
    "This workbook was actually created after I completed the assignments for LASSO in the Coursera Machine Learning Specialization Regression course, Week 5.  This workbook is to reinforce some of the learning and also to dive deeper into some of the details that lacked depth during the assignments.\n",
    "\n",
    "Much like the other workbooks I've created up to this point, the point of this workbook is to create a line and add fake noise, then solve for the true line using coordinate descent while applying LASSO. "
   ]
  },
  {
   "cell_type": "markdown",
   "metadata": {},
   "source": [
    "## Part 1:  Setup"
   ]
  },
  {
   "cell_type": "code",
   "execution_count": 3,
   "metadata": {
    "collapsed": true
   },
   "outputs": [],
   "source": [
    "# imports\n",
    "import pandas as pd\n",
    "import numpy as np\n",
    "import matplotlib.pyplot as plt\n",
    "%matplotlib inline"
   ]
  },
  {
   "cell_type": "markdown",
   "metadata": {},
   "source": [
    "## Solve For Coefficients Using Coordinate Descent & Least Squares"
   ]
  },
  {
   "cell_type": "markdown",
   "metadata": {},
   "source": [
    "First we need to create some functions.  The first one we need is a function to compute predictions given a feature matrix and coefficients."
   ]
  },
  {
   "cell_type": "code",
   "execution_count": 4,
   "metadata": {
    "collapsed": true
   },
   "outputs": [],
   "source": [
    "def predict_outcome(feature_matrix, weights):\n",
    "    predictions = np.dot(feature_matrix, weights)\n",
    "    return(predictions)"
   ]
  },
  {
   "cell_type": "markdown",
   "metadata": {},
   "source": [
    "Next we need a function to normalize our features.  We'll be using **numpy.linalg.norm** here, so let's learn a bit about how numpy.linalg.norm works.  To do this, lets break down the inputs:\n",
    " - x = input array .. seems pretty straight forward\n",
    " - ord = Order of the norm .. this seems to be where the real meat and potatoes are so lets dive deeper here\n",
    " \n",
    " According to the numpy doc there are roughly 11 acceptable values for ord broken down into a table as such.\n",
    " \n",
    "| ord   | norm for matrices         | norm for vectors         |\n",
    "|-------|---------------------------|--------------------------|\n",
    "| None  | Frobenius norm            | 2-norm                   |\n",
    "|‘fro’  |\tFrobenius norm\t        | -                        |\n",
    "|‘nuc’\t| nuclear norm\t            | –                        |\n",
    "| inf\t| max(sum(abs(x), axis=1))\t|max(abs(x))               |\n",
    "|-inf\t| min(sum(abs(x), axis=1))\t| min(abs(x))              |\n",
    "| 0\t    | –\t                        |sum(x != 0)               |\n",
    "| 1\t    | max(sum(abs(x), axis=0))\t| as below                 |\n",
    "| -1\t| min(sum(abs(x), axis=0))\t| as below                 |\n",
    "| 2\t    | 2-norm (largest sing. val)| as below                 |\n",
    "| -2\t| smallest singular value\t| as below                 |\n",
    "| other\t| –\t                        |sum(abs(x)**ord)**(1./ord)|           \n",
    "\n",
    "With this in mind, lets look at the other inputs.\n",
    "- axis = If axis is an integer, it specifies the axis of x along which to compute the vector norms. If axis is a 2-tuple, it specifies the axes that hold 2-D matrices, and the matrix norms of these matrices are computed. If axis is None then either a vector norm (when x is 1-D) or a matrix norm (when x is 2-D) is returned.\n",
    "- keepdims = If this is set to True, the axes which are normed over are left in the result as dimensions with size one. With this option the result will broadcast correctly against the original x.\n",
    "\n",
    "The default values are x, ord=None, axis=None, keepdims=False\n",
    "\n",
    "So we'll be computing the 2-norm for each column.\n",
    "\n",
    "First lets test our the function so we know exactly what it's doing.  We'll first run the numpy function on a numpy array, and then we'll see if we can match the result by computing the 2-norm without the numpy function.\n",
    "\n",
    "The 2-norm function is as follows.\n",
    "\n",
    "$$\\sqrt{\\sum_{i=1}^n x_i^2}$$\n",
    "\n",
    "Lets try this out.\n",
    " "
   ]
  },
  {
   "cell_type": "code",
   "execution_count": 5,
   "metadata": {
    "collapsed": false
   },
   "outputs": [
    {
     "name": "stdout",
     "output_type": "stream",
     "text": [
      "16.8819430161\n",
      "16.8819430161\n"
     ]
    }
   ],
   "source": [
    "mylist = np.array([1,2,3,4,5,6,7,8,9])\n",
    "result1 = np.linalg.norm(mylist)\n",
    "two_norm = np.sqrt(np.sum(mylist**2))\n",
    "print(result1)\n",
    "print(two_norm)"
   ]
  },
  {
   "cell_type": "markdown",
   "metadata": {},
   "source": [
    "We can normalize our data by taking our data and dividing each value by the 2-norm.  \n",
    "\n",
    "If we try to normalize this data using the 2-norm, what does it look like?"
   ]
  },
  {
   "cell_type": "code",
   "execution_count": 6,
   "metadata": {
    "collapsed": false
   },
   "outputs": [
    {
     "name": "stdout",
     "output_type": "stream",
     "text": [
      "[ 0.05923489  0.11846978  0.17770466  0.23693955  0.29617444  0.35540933\n",
      "  0.41464421  0.4738791   0.53311399]\n"
     ]
    }
   ],
   "source": [
    "normalized_data = mylist / two_norm\n",
    "print(normalized_data)"
   ]
  },
  {
   "cell_type": "markdown",
   "metadata": {},
   "source": [
    "Notice that all values are now between 0 and 1.\n",
    "\n",
    "Now if we look at the 2-norm for our normalized data, we should get 1."
   ]
  },
  {
   "cell_type": "code",
   "execution_count": 7,
   "metadata": {
    "collapsed": false
   },
   "outputs": [
    {
     "data": {
      "text/plain": [
       "0.99999999999999989"
      ]
     },
     "execution_count": 7,
     "metadata": {},
     "output_type": "execute_result"
    }
   ],
   "source": [
    "np.sqrt(np.sum((normalized_data)**2))"
   ]
  },
  {
   "cell_type": "markdown",
   "metadata": {},
   "source": [
    "Here are some references for what we just covered:\n",
    "<br>https://www.utdallas.edu/~herve/abdi-Normalizing2010-pretty.pdf\n",
    "<br>https://docs.scipy.org/doc/numpy-1.13.0/reference/generated/numpy.linalg.norm.html\n",
    "<br>http://www.math.usm.edu/math/lambers/mat610/sum10/lecture2.pdf"
   ]
  },
  {
   "cell_type": "markdown",
   "metadata": {},
   "source": [
    "Now that we know more about normalizing and numpy.linalg.norm, lets create a function for normalizing our data using 2-norm"
   ]
  },
  {
   "cell_type": "code",
   "execution_count": 8,
   "metadata": {
    "collapsed": true
   },
   "outputs": [],
   "source": [
    "def normalize_data(data):\n",
    "    two_norms = np.linalg.norm(data, axis=0)\n",
    "    normalized_data = data / two_norms\n",
    "    return (normalized_data)"
   ]
  },
  {
   "cell_type": "markdown",
   "metadata": {},
   "source": [
    "Now that we have our functions for normalizing data and calculating predictions, lets move on to our coordinate descent algorithm with LASSO.  From the Coursera course, remember the algoritm is as follows:\n",
    "\n",
    "<img src=\"https://github.com/yeamusic21/Coursera-Machine-Learning-Specialization-Extra-Assignments/blob/master/Regression/img/lasso_algorithm.PNG?raw=true\">"
   ]
  },
  {
   "cell_type": "markdown",
   "metadata": {},
   "source": [
    "Lets get some better understanding for the rho_j function that's given in class.  Lets create some quick fake data, normalize it, then do a quick calculation of rho_j using the formula from class...\n"
   ]
  },
  {
   "cell_type": "markdown",
   "metadata": {
    "collapsed": false
   },
   "source": [
    "#### Create some data"
   ]
  },
  {
   "cell_type": "code",
   "execution_count": 9,
   "metadata": {
    "collapsed": false
   },
   "outputs": [
    {
     "data": {
      "image/png": "[encoded data removed]",
      "text/plain": [
       "<matplotlib.figure.Figure at 0xbd83be0>"
      ]
     },
     "metadata": {},
     "output_type": "display_data"
    }
   ],
   "source": [
    "# simulate some data\n",
    "column1 = np.repeat(1, 10)\n",
    "column2 = np.arange(-5,5,1)\n",
    "column3 = column2**2\n",
    "column4 = column2**3\n",
    "X = np.array([column1,column2,column3,column4])\n",
    "X = X.transpose()\n",
    "\n",
    "B = np.array([-2,1,3,-1])\n",
    "B = B.transpose()\n",
    "# create some fake noise\n",
    "e = np.array(np.random.normal(0, 10.564, 10))\n",
    "e = e.transpose()\n",
    "# finally, create fake response data\n",
    "Y = np.add(np.dot(X,B), e)\n",
    "\n",
    "# plot our fake data to make sure it looks as we would expect (linear relationship with noise)\n",
    "plt.scatter(X[:,1], Y)\n",
    "plt.title('Fake Data Scatter Plot')\n",
    "plt.xlabel(\"Data (X)\")\n",
    "plt.ylabel(\"Response (Y)\")\n",
    "plt.show()"
   ]
  },
  {
   "cell_type": "markdown",
   "metadata": {},
   "source": [
    "#### Normalize it"
   ]
  },
  {
   "cell_type": "code",
   "execution_count": 10,
   "metadata": {
    "collapsed": false
   },
   "outputs": [],
   "source": [
    "X_norm = normalize_data(X)"
   ]
  },
  {
   "cell_type": "code",
   "execution_count": 11,
   "metadata": {
    "collapsed": false
   },
   "outputs": [
    {
     "name": "stdout",
     "output_type": "stream",
     "text": [
      "[[ 0.31622777 -0.54232614  0.68473879 -0.78424257]\n",
      " [ 0.31622777 -0.43386092  0.43823283 -0.4015322 ]\n",
      " [ 0.31622777 -0.32539569  0.24650597 -0.1693964 ]\n",
      " [ 0.31622777 -0.21693046  0.10955821 -0.05019152]\n",
      " [ 0.31622777 -0.10846523  0.02738955 -0.00627394]\n",
      " [ 0.31622777  0.          0.          0.        ]\n",
      " [ 0.31622777  0.10846523  0.02738955  0.00627394]\n",
      " [ 0.31622777  0.21693046  0.10955821  0.05019152]\n",
      " [ 0.31622777  0.32539569  0.24650597  0.1693964 ]\n",
      " [ 0.31622777  0.43386092  0.43823283  0.4015322 ]]\n"
     ]
    }
   ],
   "source": [
    "print(X_norm)"
   ]
  },
  {
   "cell_type": "markdown",
   "metadata": {},
   "source": [
    "#### quick computation of rho_j"
   ]
  },
  {
   "cell_type": "code",
   "execution_count": 12,
   "metadata": {
    "collapsed": false
   },
   "outputs": [
    {
     "name": "stdout",
     "output_type": "stream",
     "text": [
      "-234.194715911\n"
     ]
    }
   ],
   "source": [
    "initial_weights = [1,1,1,1]\n",
    "prediction = predict_outcome(X_norm, weights=initial_weights)\n",
    "j = 3\n",
    "\n",
    "ro_j = np.sum(X_norm[:,j]*(Y - prediction + initial_weights[j]*X_norm[:,j]))\n",
    "print(ro_j)"
   ]
  },
  {
   "cell_type": "markdown",
   "metadata": {
    "collapsed": false
   },
   "source": [
    "Lets try computing this in a differnt way, and see if we get the same answer"
   ]
  },
  {
   "cell_type": "code",
   "execution_count": 13,
   "metadata": {
    "collapsed": false
   },
   "outputs": [
    {
     "name": "stdout",
     "output_type": "stream",
     "text": [
      "-234.731717224\n"
     ]
    }
   ],
   "source": [
    "prediction = predict_outcome(X_norm[:,0:2], weights=initial_weights[0:2])\n",
    "ro_j_new = np.sum(X_norm[:,j]*(Y - prediction))\n",
    "print(ro_j_new)"
   ]
  },
  {
   "cell_type": "markdown",
   "metadata": {
    "collapsed": true
   },
   "source": [
    "let's try another one"
   ]
  },
  {
   "cell_type": "code",
   "execution_count": 14,
   "metadata": {
    "collapsed": false
   },
   "outputs": [
    {
     "name": "stdout",
     "output_type": "stream",
     "text": [
      "139.831842641\n"
     ]
    }
   ],
   "source": [
    "initial_weights = [1,1,1,1]\n",
    "prediction = predict_outcome(X_norm, weights=initial_weights)\n",
    "j = 0\n",
    "\n",
    "ro_j = np.sum(X_norm[:,j]*(Y - prediction + initial_weights[j]*X_norm[:,j]))\n",
    "print(ro_j)"
   ]
  },
  {
   "cell_type": "code",
   "execution_count": 15,
   "metadata": {
    "collapsed": false
   },
   "outputs": [
    {
     "data": {
      "text/plain": [
       "array([ 211.08146225,  122.7554228 ,   68.96413043,   38.90733968,\n",
       "          3.05874503,   12.6610932 ,   10.5161682 ,   -2.63841781,\n",
       "        -10.29697182,  -12.82185979])"
      ]
     },
     "execution_count": 15,
     "metadata": {},
     "output_type": "execute_result"
    }
   ],
   "source": [
    "Y - prediction + initial_weights[j]*X_norm[:,j]"
   ]
  },
  {
   "cell_type": "code",
   "execution_count": 16,
   "metadata": {
    "collapsed": false
   },
   "outputs": [
    {
     "name": "stdout",
     "output_type": "stream",
     "text": [
      "139.583843365\n"
     ]
    }
   ],
   "source": [
    "prediction = predict_outcome(X_norm[:,1:3], weights=initial_weights[1:3])\n",
    "ro_j_new = np.sum(X_norm[:,j]*(Y - prediction))\n",
    "print(ro_j_new)"
   ]
  },
  {
   "cell_type": "code",
   "execution_count": 17,
   "metadata": {
    "collapsed": false
   },
   "outputs": [
    {
     "data": {
      "text/plain": [
       "array([ 210.29721968,  122.35389061,   68.79473404,   38.85714816,\n",
       "          3.05247109,   12.6610932 ,   10.52244214,   -2.58822629,\n",
       "        -10.12757543,  -12.4203276 ])"
      ]
     },
     "execution_count": 17,
     "metadata": {},
     "output_type": "execute_result"
    }
   ],
   "source": [
    "Y - prediction"
   ]
  },
  {
   "cell_type": "markdown",
   "metadata": {},
   "source": [
    "So we can see that both methods are essentially the same, but we're going to use the 1st method because it's easier to implement.  \n",
    "\n",
    "In the 1st method we compute the prediction using all the data, but then we want to calculate the residual using a prediction that excludes the variable of interest.  So what do we do?  We simply calcuate the residual with the full model, then add back in the effect of the variable (j) of interest.  \n",
    "\n",
    "In the 2nd method we simply calculate the prediction without the variable of interest (j), and then use those predictions in our residual calculation.\n",
    "\n",
    "It's essentially the same thing with some minor error, but we'll use the 1st method because it will be easier to code (even though it might seem less intuitive, but hopefully this explanation helped).\n",
    "\n",
    "Now that we understand our Rho calculation and our algorithm, let's push on.  First we'll define a function for 1 step of descent, then we'll define the full algorithm."
   ]
  },
  {
   "cell_type": "code",
   "execution_count": 18,
   "metadata": {
    "collapsed": true
   },
   "outputs": [],
   "source": [
    "def lasso_coordinate_descent_step(i, feature_matrix, output, weights, l1_penalty):\n",
    "    # compute prediction\n",
    "    prediction = predict_outcome(feature_matrix, weights)\n",
    "    # compute ro[i] = SUM[ [feature_i]*(output - prediction + weight[i]*[feature_i]) ]\n",
    "    ro_i = np.sum(feature_matrix[:,i]*(output - prediction + weights[i]*feature_matrix[:,i]))\n",
    "    \n",
    "    if i == 0: # intercept -- do not regularize\n",
    "        new_weight_i = ro_i\n",
    "    elif ro_i < -l1_penalty/2.:\n",
    "        new_weight_i = ro_i + l1_penalty/2\n",
    "    elif ro_i > l1_penalty/2.:\n",
    "        new_weight_i = ro_i - l1_penalty/2\n",
    "    else:\n",
    "        new_weight_i = 0.\n",
    "    \n",
    "    return new_weight_i"
   ]
  },
  {
   "cell_type": "code",
   "execution_count": 19,
   "metadata": {
    "collapsed": true
   },
   "outputs": [],
   "source": [
    "def lasso_cyclical_coordinate_descent(feature_matrix, output, initial_weights, l1_penalty, tolerance):\n",
    "    tot_change = tolerance + 1\n",
    "    weights = initial_weights\n",
    "    diffs = np.zeros(len(initial_weights))\n",
    "    while tot_change > tolerance:\n",
    "        for i in range(len(initial_weights)):\n",
    "            last_w_i = weights[i]\n",
    "            weights[i] = lasso_coordinate_descent_step(i, feature_matrix, output, weights, l1_penalty)\n",
    "            diffs[i] = abs(last_w_i - weights[i])\n",
    "        tot_change = np.sum(diffs)\n",
    "    return weights"
   ]
  },
  {
   "cell_type": "markdown",
   "metadata": {},
   "source": [
    "## Part 2:  Implementation"
   ]
  },
  {
   "cell_type": "markdown",
   "metadata": {},
   "source": [
    "### Let's create some new fake data to play with"
   ]
  },
  {
   "cell_type": "code",
   "execution_count": 20,
   "metadata": {
    "collapsed": false
   },
   "outputs": [
    {
     "data": {
      "image/png": "[encoded data removed]",
      "text/plain": [
       "<matplotlib.figure.Figure at 0xbf01048>"
      ]
     },
     "metadata": {},
     "output_type": "display_data"
    }
   ],
   "source": [
    "#### CREATE FAKE DATA\n",
    "\n",
    "# imports\n",
    "import numpy as np\n",
    "import matplotlib.pyplot as plt\n",
    "%matplotlib inline\n",
    "\n",
    "# simulate some data\n",
    "column1 = np.repeat(1, 100)\n",
    "column2 = np.arange(-5,5,.1)\n",
    "column3 = column2**2\n",
    "column4 = column2**3\n",
    "column5 = column2**4\n",
    "column6 = column2**5\n",
    "X = np.array([column1,column2,column3,column4,column5,column6])\n",
    "X = X.transpose()\n",
    "# make up some parameters\n",
    "B = np.array(np.array([0.345,-90.961,-1.109,0.432,0.657,0.548]))\n",
    "B = B.transpose()\n",
    "# create some fake noise\n",
    "e = np.array(np.random.normal(0, 200, 100))\n",
    "e = e.transpose()\n",
    "# finally, create fake response data\n",
    "Y = np.add(np.dot(X,B), e)\n",
    "\n",
    "# plot our fake data to make sure it looks as we would expect (linear relationship with noise)\n",
    "plt.scatter(X[:,1], Y)\n",
    "plt.title('Fake Data Scatter Plot')\n",
    "plt.xlabel(\"Data (X)\")\n",
    "plt.ylabel(\"Response (Y)\")\n",
    "plt.show()"
   ]
  },
  {
   "cell_type": "markdown",
   "metadata": {},
   "source": [
    "#### Need to remember to normalize our data first"
   ]
  },
  {
   "cell_type": "code",
   "execution_count": 21,
   "metadata": {
    "collapsed": true
   },
   "outputs": [],
   "source": [
    "X_norm = normalize_data(X)"
   ]
  },
  {
   "cell_type": "markdown",
   "metadata": {},
   "source": [
    "##### Lets start with a small penalty"
   ]
  },
  {
   "cell_type": "code",
   "execution_count": 25,
   "metadata": {
    "collapsed": false
   },
   "outputs": [
    {
     "name": "stdout",
     "output_type": "stream",
     "text": [
      "    Features    Estimates\n",
      "0  intercept   344.976910\n",
      "1         X1 -1551.942846\n",
      "2         X2  -628.427056\n",
      "3         X3 -1511.315352\n",
      "4         X4  1632.244924\n",
      "5         X5  6078.405973\n"
     ]
    },
    {
     "data": {
      "image/png": "[encoded data removed]",
      "text/plain": [
       "<matplotlib.figure.Figure at 0xbe5eda0>"
      ]
     },
     "metadata": {},
     "output_type": "display_data"
    }
   ],
   "source": [
    "# fit model\n",
    "model_final_coefs = lasso_cyclical_coordinate_descent(feature_matrix=X_norm, \n",
    "                                                      output=Y, \n",
    "                                                      initial_weights=np.repeat(1e-5,6), \n",
    "                                                      l1_penalty=1, \n",
    "                                                      tolerance=1)\n",
    "\n",
    "# print model summary\n",
    "model_summary = pd.DataFrame(zip(['intercept','X1','X2','X3','X4','X5'],model_final_coefs), \n",
    "                             columns=['Features','Estimates'])\n",
    "\n",
    "print(model_summary)\n",
    "\n",
    "# plot data and final model\n",
    "predictions = predict_outcome(X_norm, weights=model_final_coefs)\n",
    "plt.scatter(X[:,1], Y)\n",
    "plt.plot(X[:,1], predictions, linewidth=2.0)\n",
    "plt.title('Final Model')\n",
    "plt.xlabel(\"Data (X)\")\n",
    "plt.ylabel(\"Response (Y)\")\n",
    "plt.show()"
   ]
  },
  {
   "cell_type": "markdown",
   "metadata": {},
   "source": [
    "##### Now lets try a larger penalty"
   ]
  },
  {
   "cell_type": "code",
   "execution_count": 26,
   "metadata": {
    "collapsed": false
   },
   "outputs": [
    {
     "name": "stdout",
     "output_type": "stream",
     "text": [
      "    Features    Estimates\n",
      "0  intercept   700.032706\n",
      "1         X1     0.000000\n",
      "2         X2     0.000000\n",
      "3         X3     0.000000\n",
      "4         X4   187.004403\n",
      "5         X5  2747.038672\n"
     ]
    },
    {
     "data": {
      "image/png": "[encoded data removed]",
      "text/plain": [
       "<matplotlib.figure.Figure at 0xbf8af28>"
      ]
     },
     "metadata": {},
     "output_type": "display_data"
    }
   ],
   "source": [
    "# fit model\n",
    "model_final_coefs = lasso_cyclical_coordinate_descent(feature_matrix=X_norm, \n",
    "                                                      output=Y, \n",
    "                                                      initial_weights=np.repeat(1e-5,6), \n",
    "                                                      l1_penalty=1000, \n",
    "                                                      tolerance=1)\n",
    "\n",
    "# print model summary\n",
    "model_summary = pd.DataFrame(zip(['intercept','X1','X2','X3','X4','X5'],model_final_coefs), \n",
    "                             columns=['Features','Estimates'])\n",
    "\n",
    "print(model_summary)\n",
    "\n",
    "# plot data and final model\n",
    "predictions = predict_outcome(X_norm, weights=model_final_coefs)\n",
    "plt.scatter(X[:,1], Y)\n",
    "plt.plot(X[:,1], predictions, linewidth=2.0)\n",
    "plt.title('Final Model')\n",
    "plt.xlabel(\"Data (X)\")\n",
    "plt.ylabel(\"Response (Y)\")\n",
    "plt.show()"
   ]
  },
  {
   "cell_type": "markdown",
   "metadata": {},
   "source": [
    "#### What if we didn't normalize first?"
   ]
  },
  {
   "cell_type": "code",
   "execution_count": 24,
   "metadata": {
    "collapsed": false
   },
   "outputs": [
    {
     "data": {
      "text/html": [
       "<div>\n",
       "<table border=\"1\" class=\"dataframe\">\n",
       "  <thead>\n",
       "    <tr style=\"text-align: right;\">\n",
       "      <th></th>\n",
       "      <th>Features</th>\n",
       "      <th>Estimates</th>\n",
       "    </tr>\n",
       "  </thead>\n",
       "  <tbody>\n",
       "    <tr>\n",
       "      <th>0</th>\n",
       "      <td>intercept</td>\n",
       "      <td>NaN</td>\n",
       "    </tr>\n",
       "    <tr>\n",
       "      <th>1</th>\n",
       "      <td>X1</td>\n",
       "      <td>0.0</td>\n",
       "    </tr>\n",
       "    <tr>\n",
       "      <th>2</th>\n",
       "      <td>X2</td>\n",
       "      <td>0.0</td>\n",
       "    </tr>\n",
       "    <tr>\n",
       "      <th>3</th>\n",
       "      <td>X3</td>\n",
       "      <td>0.0</td>\n",
       "    </tr>\n",
       "    <tr>\n",
       "      <th>4</th>\n",
       "      <td>X4</td>\n",
       "      <td>0.0</td>\n",
       "    </tr>\n",
       "    <tr>\n",
       "      <th>5</th>\n",
       "      <td>X5</td>\n",
       "      <td>0.0</td>\n",
       "    </tr>\n",
       "  </tbody>\n",
       "</table>\n",
       "</div>"
      ],
      "text/plain": [
       "    Features  Estimates\n",
       "0  intercept        NaN\n",
       "1         X1        0.0\n",
       "2         X2        0.0\n",
       "3         X3        0.0\n",
       "4         X4        0.0\n",
       "5         X5        0.0"
      ]
     },
     "execution_count": 24,
     "metadata": {},
     "output_type": "execute_result"
    }
   ],
   "source": [
    "# fit model\n",
    "model_final_coefs = lasso_cyclical_coordinate_descent(feature_matrix=X, \n",
    "                                                      output=Y, \n",
    "                                                      initial_weights=np.repeat(1e-5,6), \n",
    "                                                      l1_penalty=1000, \n",
    "                                                      tolerance=1)\n",
    "\n",
    "# print model summary\n",
    "pd.DataFrame(zip(['intercept','X1','X2','X3','X4','X5'],model_final_coefs), columns=['Features','Estimates'])"
   ]
  },
  {
   "cell_type": "markdown",
   "metadata": {},
   "source": [
    "The takeaway here should be that normalizing is pretty important for LASSO."
   ]
  },
  {
   "cell_type": "code",
   "execution_count": null,
   "metadata": {
    "collapsed": true
   },
   "outputs": [],
   "source": []
  }
 ],
 "metadata": {
  "kernelspec": {
   "display_name": "Python 2",
   "language": "python",
   "name": "python2"
  },
  "language_info": {
   "codemirror_mode": {
    "name": "ipython",
    "version": 2
   },
   "file_extension": ".py",
   "mimetype": "text/x-python",
   "name": "python",
   "nbconvert_exporter": "python",
   "pygments_lexer": "ipython2",
   "version": "2.7.11"
  }
 },
 "nbformat": 4,
 "nbformat_minor": 0
}
