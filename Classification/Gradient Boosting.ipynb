{
 "cells": [
  {
   "cell_type": "markdown",
   "metadata": {},
   "source": [
    "# Gradient Boosting using LS Boost"
   ]
  },
  {
   "cell_type": "markdown",
   "metadata": {},
   "source": [
    "The point of this workbook is to create some fake data, then solve for the class using Gradient Boosting and specifically the LS Boost algorithm.\n",
    "\n",
    "None of the code here is taken from the Coursera course.  This exercise is actually not related to the Coursera Machine Learning Specialization, and instead works off the following resources:\n",
    "\n",
    "https://web.stanford.edu/~hastie/Papers/ESLII.pdf <br>\n",
    "http://statweb.stanford.edu/~jhf/ftp/trebst.pdf <br>\n",
    "https://medium.com/mlreview/gradient-boosting-from-scratch-1e317ae4587d <br>\n",
    "https://www.youtube.com/watch?time_continue=562&v=sRktKszFmSk <br>\n",
    "\n",
    "For this workbook we're leaning hard on different Python packages.  For fitting our trees we're using scikit learn.\n",
    "\n",
    "We'll be focusing on the LS Boost algorithm because it's easier to interpret and the same ideas and methods can be extended to more advanced algorithms.  We can find the algorithm in \"Greedy Function Approximation: A Gradient Boosting Machine\" which looks like the following:\n",
    "<img src=\"https://github.com/yeamusic21/Coursera-Machine-Learning-Specialization-Extra-Assignments/blob/master/Classification/img/ls_boost_algorithm.PNG?raw=true\">"
   ]
  },
  {
   "cell_type": "markdown",
   "metadata": {},
   "source": [
    "## Create Some Fake Data to Fit"
   ]
  },
  {
   "cell_type": "code",
   "execution_count": 1,
   "metadata": {
    "collapsed": true
   },
   "outputs": [],
   "source": [
    "# imports\n",
    "import numpy as np\n",
    "import matplotlib.pyplot as plt\n",
    "%matplotlib inline"
   ]
  },
  {
   "cell_type": "markdown",
   "metadata": {},
   "source": [
    "So the idea here is to create some kind of data with a bit of structure and noise and then create a decision boundry to create our dependent variable.  The creation for X1 and X2, our independent variables don't necesarrily make a lot of sense, I'm just basically playing around to create some fake data to model."
   ]
  },
  {
   "cell_type": "code",
   "execution_count": 4,
   "metadata": {
    "collapsed": true
   },
   "outputs": [],
   "source": [
    "#### CREATE FAKE DATA\n",
    "\n",
    "# simulate some data\n",
    "column1 = np.repeat(1, 100)\n",
    "column2 = np.arange(-5,5,.1)\n",
    "column3 = (column2**2)/1\n",
    "column4 = (column2**3)/10\n",
    "column5 = (column2**4)/100\n",
    "Xplay = np.matrix([column1,column2,column3,column4,column5])\n",
    "Xplay = Xplay.transpose()\n",
    "# save column1 from Xplay as our first modeling variable\n",
    "X1 = Xplay[:,1]\n",
    "# make up some parameters\n",
    "B = np.matrix(np.array([5.0345,2.0961,2.5109,1.0432,3.6657]))\n",
    "B = B.transpose()\n",
    "# create some fake noise\n",
    "e = np.matrix(np.random.normal(0, 19, 100))\n",
    "e = e.transpose()\n",
    "# finally, create another fake variable using an arbitrary function with noise\n",
    "X2 = Xplay*B + e\n",
    "\n",
    "# now we're going to set some arbitrary line to pick our 1's and 0's\n",
    "# and we'll add some noise so it's not perfectly linearly separable\n",
    "bound = np.arange(min(X2),max(X2),(max(X2)-min(X2))/len(X2))\n",
    "Y = []\n",
    "for i in range(100):\n",
    "    if X2[i] + np.random.normal(0, 40, 1) > bound[i]:\n",
    "        Y.append(1)\n",
    "    else:\n",
    "        Y.append(0)\n",
    "\n",
    "# reformat Y\n",
    "Y = np.matrix([Y])\n",
    "Y = Y.transpose()"
   ]
  },
  {
   "cell_type": "markdown",
   "metadata": {},
   "source": [
    "Now lets take a look at the data we created and that we're going to try and model"
   ]
  },
  {
   "cell_type": "code",
   "execution_count": 6,
   "metadata": {
    "collapsed": false
   },
   "outputs": [
    {
     "data": {
      "image/png": "[encoded data removed]",
      "text/plain": [
       "<matplotlib.figure.Figure at 0xa680668>"
      ]
     },
     "metadata": {},
     "output_type": "display_data"
    }
   ],
   "source": [
    "# plot our fake data to make sure it looks as we would expect\n",
    "\n",
    "mask1 = Y!=1\n",
    "mask0 = Y!=0\n",
    "\n",
    "X1f = X1.flatten()\n",
    "X2f = X2.flatten()\n",
    "\n",
    "intercept = np.matrix(np.repeat(1, 100))\n",
    "X = np.concatenate((intercept.transpose(),X1,X2),axis=1)\n",
    "\n",
    "plt.scatter(X1f[mask1.ravel()], X2f[mask1.ravel()],c='red')\n",
    "plt.scatter(X1f[mask0.ravel()], X2f[mask0.ravel()],c='blue')\n",
    "plt.title('Fake Data Plot')\n",
    "plt.xlabel(\"Data (X1)\")\n",
    "plt.ylabel(\"Data (X2)\")\n",
    "plt.show()"
   ]
  },
  {
   "cell_type": "markdown",
   "metadata": {},
   "source": [
    "### Fit Gradient Boosting using Regression Tree as Base Learner "
   ]
  },
  {
   "cell_type": "markdown",
   "metadata": {},
   "source": [
    "I wanted to use dynamic variables, but I had a bit of trouble.  I used the following article as a reference.\n",
    "\n",
    "*Resource or creating dynamic variables:* http://stupidpythonideas.blogspot.com/2013/05/why-you-dont-want-to-dynamically-create.html\n",
    "\n",
    "But when I set everything up, every model just returned the predictions of the final model.  Not sure why it was giving me trouble (not the 1st time with Python) so instead I just dropped the dynamic variables and scored the data as I was training.\n",
    "\n",
    "Another thing to notice is that we're using a regression tree for classification.  So we start off with the mean being our initial prediction (something like 0.28) and then from there our regression tree will work to separate the 1's from the 0's, and this works great, as we will see."
   ]
  },
  {
   "cell_type": "code",
   "execution_count": 7,
   "metadata": {
    "collapsed": true
   },
   "outputs": [],
   "source": [
    "# imports\n",
    "import time\n",
    "from sklearn.tree import DecisionTreeRegressor"
   ]
  },
  {
   "cell_type": "code",
   "execution_count": 67,
   "metadata": {
    "collapsed": true
   },
   "outputs": [],
   "source": [
    "# create function that will compute the initial pseudo residuals\n",
    "def get_initial_pseudo_residuals(target):\n",
    "    avg = sum(target)/float(len(target))\n",
    "    avg = np.repeat(avg,len(target))\n",
    "    avg = avg.transpose()\n",
    "    pseudo_residuals = Y - avg\n",
    "    return pseudo_residuals"
   ]
  },
  {
   "cell_type": "code",
   "execution_count": 68,
   "metadata": {
    "collapsed": true
   },
   "outputs": [],
   "source": [
    "# create function that will return the predictions from the initial learner\n",
    "def get_initial_predictions(target):\n",
    "    avg = sum(target)/float(len(target))\n",
    "    avg = np.repeat(avg,len(target))\n",
    "    avg = avg.transpose()\n",
    "    return avg"
   ]
  },
  {
   "cell_type": "code",
   "execution_count": 84,
   "metadata": {
    "collapsed": false
   },
   "outputs": [],
   "source": [
    "# set some of the hyperparameters\n",
    "rounds = 3000\n",
    "mydepth = 3\n",
    "learning_rate = 0.01\n",
    "\n",
    "# define training data\n",
    "X = np.concatenate((X1,X2),axis=1)\n",
    "\n",
    "# define classifier as classification tree with set depth\n",
    "clf = DecisionTreeRegressor(max_depth=mydepth)\n",
    "\n",
    "# initial error history for plotting later\n",
    "error_history = []\n",
    "\n",
    "# Train Gradient Boosting\n",
    "for i in range(rounds):\n",
    "    if i==0:\n",
    "        # calculate initial pseudo residuals\n",
    "        pseudo_residuals = get_initial_pseudo_residuals(target=Y)\n",
    "        # calculate final predictions as we train\n",
    "        predicted = get_initial_predictions(target=Y)\n",
    "    else:\n",
    "        # fit model on the pseudo residuals\n",
    "        model = clf.fit(X,pseudo_residuals)\n",
    "        # calculate predictions\n",
    "        predictions = model.predict(X)\n",
    "        # transpose predictions for next step\n",
    "        predictions = np.matrix(predictions).transpose()\n",
    "        # update pseudo residuals\n",
    "        pseudo_residuals = pseudo_residuals - learning_rate*predictions\n",
    "        # calculate final predictions as we train\n",
    "        predicted = predicted + learning_rate*predictions\n",
    "        # save binary error for plotting later on\n",
    "        error_history.append(sum(abs(Y - predicted)).item(0))"
   ]
  },
  {
   "cell_type": "code",
   "execution_count": 85,
   "metadata": {
    "collapsed": false
   },
   "outputs": [
    {
     "data": {
      "text/plain": [
       "[<matplotlib.lines.Line2D at 0xc8b1828>]"
      ]
     },
     "execution_count": 85,
     "metadata": {},
     "output_type": "execute_result"
    },
    {
     "data": {
      "image/png": "[encoded data removed]",
      "text/plain": [
       "<matplotlib.figure.Figure at 0xc637320>"
      ]
     },
     "metadata": {},
     "output_type": "display_data"
    }
   ],
   "source": [
    "# plot error history\n",
    "x = np.arange(0,rounds-1,1)\n",
    "plt.plot(x,error_history)"
   ]
  },
  {
   "cell_type": "markdown",
   "metadata": {},
   "source": [
    "So you can see that we followed the algorithm pretty well and our error goes to 0 on training, so it looks like we coded it correctly.  Pretty cool!  Lets see how our final plot looks..."
   ]
  },
  {
   "cell_type": "code",
   "execution_count": 90,
   "metadata": {
    "collapsed": false
   },
   "outputs": [],
   "source": [
    "# determine final predictions from scores\n",
    "predictions = []\n",
    "for k in range(len(X)):\n",
    "    if predicted[k].item(0)>0.5:\n",
    "        predictions.append(1)\n",
    "    else:\n",
    "        predictions.append(0)"
   ]
  },
  {
   "cell_type": "markdown",
   "metadata": {},
   "source": [
    "Now let's plot our results!"
   ]
  },
  {
   "cell_type": "code",
   "execution_count": 91,
   "metadata": {
    "collapsed": false
   },
   "outputs": [
    {
     "data": {
      "image/png": "[encoded data removed]",
      "text/plain": [
       "<matplotlib.figure.Figure at 0xca013c8>"
      ]
     },
     "metadata": {},
     "output_type": "display_data"
    },
    {
     "name": "stdout",
     "output_type": "stream",
     "text": [
      "Accuracy: 1.0\n"
     ]
    }
   ],
   "source": [
    "#### PLOT ADABOOST RESULTS\n",
    "\n",
    "# training data\n",
    "X = np.concatenate((X1,X2),axis=1)\n",
    "\n",
    "# get predicted\n",
    "predicted = predictions\n",
    "predicted = np.matrix(predicted).transpose()\n",
    "\n",
    "# compute masks for plotting\n",
    "mask1 = predicted!=1\n",
    "mask0 = predicted!=0\n",
    "\n",
    "# reformat for plotting\n",
    "X1f = X[:,0].flatten()\n",
    "X2f = X[:,1].flatten()\n",
    "\n",
    "# plot results\n",
    "plt.scatter(X1f[mask1.ravel()], X2f[mask1.ravel()],c='red')\n",
    "plt.scatter(X1f[mask0.ravel()], X2f[mask0.ravel()],c='blue')\n",
    "plt.title('Fake Data Plot')\n",
    "plt.xlabel(\"Data (X1)\")\n",
    "plt.ylabel(\"Data (X2)\")\n",
    "plt.show()\n",
    "\n",
    "# compute and print accuracy\n",
    "correct = 0\n",
    "for i in range(len(Y)):\n",
    "    if Y[i,]==predicted[i,]:\n",
    "        correct += 1\n",
    "print \"Accuracy:\",correct / float(len(Y))"
   ]
  },
  {
   "cell_type": "markdown",
   "metadata": {
    "collapsed": true
   },
   "source": [
    "WOW!  100% on training!  That's pretty awesome that we did it!  Obviously we don't know how it generalizes (probably not well because we're clearly overfitting), but this was not in scope for this workbook.  The main thing I wanted to do was code it up from scratch and show it working properly, which we did!  Hooray! "
   ]
  },
  {
   "cell_type": "code",
   "execution_count": null,
   "metadata": {
    "collapsed": true
   },
   "outputs": [],
   "source": []
  }
 ],
 "metadata": {
  "kernelspec": {
   "display_name": "Python 2",
   "language": "python",
   "name": "python2"
  },
  "language_info": {
   "codemirror_mode": {
    "name": "ipython",
    "version": 2
   },
   "file_extension": ".py",
   "mimetype": "text/x-python",
   "name": "python",
   "nbconvert_exporter": "python",
   "pygments_lexer": "ipython2",
   "version": "2.7.11"
  }
 },
 "nbformat": 4,
 "nbformat_minor": 0
}
