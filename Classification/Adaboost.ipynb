{
 "cells": [
  {
   "cell_type": "markdown",
   "metadata": {},
   "source": [
    "# Adaboost"
   ]
  },
  {
   "cell_type": "markdown",
   "metadata": {},
   "source": [
    "The point of this workbook is to create some fake data, then solve for the class using Adaboost.\n",
    "\n",
    "None of the code here is taken from the Coursera course.  This exercise is completed in order to apply the lessons learned without code assistance as well as elaborate on some aspects.\n",
    "\n",
    "For this workbook we're leaning hard on different Python packages.  For fitting our trees we're using scikit learn.\n",
    "\n",
    "You can find the Adaboost algorithm from the Coursera Machine Learning Specialization Classification Course, Week 5 video \"Example of Adaboost in Action\" which shows the following:\n",
    "\n",
    "<img src=\"https://github.com/yeamusic21/Coursera-Machine-Learning-Specialization-Extra-Assignments/blob/master/Classification/img/adaboost_algorithm.PNG?raw=true\">"
   ]
  },
  {
   "cell_type": "markdown",
   "metadata": {},
   "source": [
    "## Create Some Fake Data to Fit"
   ]
  },
  {
   "cell_type": "code",
   "execution_count": 2,
   "metadata": {
    "collapsed": true
   },
   "outputs": [],
   "source": [
    "# imports\n",
    "import numpy as np\n",
    "import matplotlib.pyplot as plt\n",
    "%matplotlib inline"
   ]
  },
  {
   "cell_type": "markdown",
   "metadata": {},
   "source": [
    "So the idea here is to create some kind of data with a bit of structure and noise and then create a decision boundry to create our dependent variable.  The creation for X1 and X2, our independent variables don't necesarrily make a lot of sense, I'm just basically playing around to create some fake data to model."
   ]
  },
  {
   "cell_type": "code",
   "execution_count": 3,
   "metadata": {
    "collapsed": true
   },
   "outputs": [],
   "source": [
    "#### CREATE FAKE DATA\n",
    "\n",
    "# simulate some data\n",
    "column1 = np.repeat(1, 100)\n",
    "column2 = np.arange(-5,5,.1)\n",
    "column3 = (column2**2)/1\n",
    "column4 = (column2**3)/10\n",
    "column5 = (column2**4)/100\n",
    "Xplay = np.matrix([column1,column2,column3,column4,column5])\n",
    "Xplay = Xplay.transpose()\n",
    "# save column1 from Xplay as our first modeling variable\n",
    "X1 = Xplay[:,1]\n",
    "# make up some parameters\n",
    "B = np.matrix(np.array([5.0345,2.0961,2.5109,1.0432,3.6657]))\n",
    "B = B.transpose()\n",
    "# create some fake noise\n",
    "e = np.matrix(np.random.normal(0, 19, 100))\n",
    "e = e.transpose()\n",
    "# finally, create another fake variable using an arbitrary function with noise\n",
    "X2 = Xplay*B + e\n",
    "\n",
    "# now we're going to set some arbitrary line to pick our 1's and 0's\n",
    "# and we'll add some noise so it's not perfectly linearly separable\n",
    "bound = np.arange(min(X2),max(X2),(max(X2)-min(X2))/len(X2))\n",
    "Y = []\n",
    "for i in range(100):\n",
    "    if X2[i] + np.random.normal(0, 40, 1) > bound[i]:\n",
    "        Y.append(+1)\n",
    "    else:\n",
    "        Y.append(-1)\n",
    "\n",
    "# reformat Y\n",
    "Y = np.matrix([Y])\n",
    "Y = Y.transpose()"
   ]
  },
  {
   "cell_type": "markdown",
   "metadata": {},
   "source": [
    "Now lets take a look at the data we created and that we're going to try and model"
   ]
  },
  {
   "cell_type": "code",
   "execution_count": 4,
   "metadata": {
    "collapsed": false
   },
   "outputs": [
    {
     "data": {
      "image/png": "[encoded data removed]",
      "text/plain": [
       "<matplotlib.figure.Figure at 0x9efa9b0>"
      ]
     },
     "metadata": {},
     "output_type": "display_data"
    }
   ],
   "source": [
    "# plot our fake data to make sure it looks as we would expect\n",
    "\n",
    "mask1 = Y!=+1\n",
    "mask0 = Y!=-1\n",
    "\n",
    "X1f = X1.flatten()\n",
    "X2f = X2.flatten()\n",
    "\n",
    "intercept = np.matrix(np.repeat(1, 100))\n",
    "X = np.concatenate((intercept.transpose(),X1,X2),axis=1)\n",
    "\n",
    "plt.scatter(X1f[mask1.ravel()], X2f[mask1.ravel()],c='red')\n",
    "plt.scatter(X1f[mask0.ravel()], X2f[mask0.ravel()],c='blue')\n",
    "plt.title('Fake Data Plot')\n",
    "plt.xlabel(\"Data (X1)\")\n",
    "plt.ylabel(\"Data (X2)\")\n",
    "plt.show()"
   ]
  },
  {
   "cell_type": "markdown",
   "metadata": {},
   "source": [
    "### Fit Adaboost using Classification Tree as Base Learner"
   ]
  },
  {
   "cell_type": "markdown",
   "metadata": {},
   "source": [
    "I wanted to use dynamic variables, but I had a bit of trouble.  I used the following article as a reference.\n",
    "\n",
    "*Resource or creating dynamic variables:* http://stupidpythonideas.blogspot.com/2013/05/why-you-dont-want-to-dynamically-create.html\n",
    "\n",
    "But when I set everything up, every model just returned the predictions of the final model.  Not sure why it was giving me trouble (not the 1st time with Python) so instead I just dropped the dynamic variables and scored the data as I was training."
   ]
  },
  {
   "cell_type": "code",
   "execution_count": 5,
   "metadata": {
    "collapsed": true
   },
   "outputs": [],
   "source": [
    "# imports\n",
    "import time\n",
    "from sklearn.tree import DecisionTreeClassifier"
   ]
  },
  {
   "cell_type": "code",
   "execution_count": 6,
   "metadata": {
    "collapsed": true
   },
   "outputs": [],
   "source": [
    "# create function that will compute the new weight of the latest learner\n",
    "def get_weight(target,predicted, weights):\n",
    "    weight = 0\n",
    "    for i in range(len(target)):\n",
    "        if target[i,]!=predicted[i,]:\n",
    "            weight += weights[i]\n",
    "    return weight/sum(weights)"
   ]
  },
  {
   "cell_type": "code",
   "execution_count": 7,
   "metadata": {
    "collapsed": false
   },
   "outputs": [],
   "source": [
    "# create function that will compute new weights for each data point\n",
    "def new_weights(target,predicted, weights, model_wgt):\n",
    "    for i in range(len(target)):\n",
    "        if target[i,]==predicted[i,]:\n",
    "            weights[i] = weights[i]*np.exp(-model_wgt) \n",
    "        else:\n",
    "            weights[i] = weights[i]*np.exp(model_wgt) \n",
    "    # Normalize before returning\n",
    "    weights = weights / sum(weights)\n",
    "    return weights"
   ]
  },
  {
   "cell_type": "code",
   "execution_count": 8,
   "metadata": {
    "collapsed": false
   },
   "outputs": [],
   "source": [
    "# set some of the hyperparameters\n",
    "rounds = 50\n",
    "mydepth = 1\n",
    "\n",
    "# define training data\n",
    "X = np.concatenate((X1,X2),axis=1)\n",
    "\n",
    "#initialize weights\n",
    "weights = np.repeat(1/float(len(X)),len(X))\n",
    "\n",
    "# define classifier as classification tree with set depth\n",
    "clf = DecisionTreeClassifier(max_depth=mydepth)\n",
    "\n",
    "# create list for saving weight history\n",
    "wgt_history = []\n",
    "\n",
    "# initialize scores\n",
    "scores = np.repeat(0.0,len(Y))\n",
    "\n",
    "# Train Adaboost\n",
    "for i in range(rounds):\n",
    "    # create model\n",
    "    model = clf.fit(X,Y,sample_weight=weights)\n",
    "    # compute predictions\n",
    "    predicted = model.predict(X)\n",
    "    # transpose predictions for next step\n",
    "    predicted_t = np.matrix(predicted).transpose()\n",
    "    #compute weighted_error for this model/learner\n",
    "    weighted_error = get_weight(target=Y,predicted=predicted_t, weights=weights)\n",
    "    #compute weight for this model/learner\n",
    "    weight = 0.5*np.log((1-weighted_error)/weighted_error)\n",
    "    #reweight data\n",
    "    weights = new_weights(target=Y,predicted=predicted_t, weights=weights, model_wgt=weight)\n",
    "    # calculate scores as we train, for calculating predictions later on\n",
    "    scores += weight*model.predict(X)\n",
    "    wgt_history.append(weight)"
   ]
  },
  {
   "cell_type": "code",
   "execution_count": 9,
   "metadata": {
    "collapsed": false
   },
   "outputs": [
    {
     "data": {
      "text/plain": [
       "[<matplotlib.lines.Line2D at 0xada3748>]"
      ]
     },
     "execution_count": 9,
     "metadata": {},
     "output_type": "execute_result"
    },
    {
     "data": {
      "image/png": "[encoded data removed]",
      "text/plain": [
       "<matplotlib.figure.Figure at 0xac8ecc0>"
      ]
     },
     "metadata": {},
     "output_type": "display_data"
    }
   ],
   "source": [
    "# plot weight history\n",
    "x = np.arange(0,rounds,1)\n",
    "plt.plot(x,wgt_history)"
   ]
  },
  {
   "cell_type": "markdown",
   "metadata": {},
   "source": [
    "Pretty interesting that the weak learner weights kind of resemble an error plot.  Also, the weights kind of feel like the gradient values because they approach 0, i.e. get smaller and smaller as we go forward (kind of like in gradient descent as we approach our cost minimum).  \n",
    "\n",
    "What is really going on is as we focus more and more on the troublesome points we have less confidence in those learners, but as an overall learner these are, in a sense, making fine adjustments to help us capture more.  This is going to help us \"boost\" our model i.e. make better predictions.  Pretty cool!  "
   ]
  },
  {
   "cell_type": "code",
   "execution_count": 11,
   "metadata": {
    "collapsed": false
   },
   "outputs": [],
   "source": [
    "# determine final predictions from scores\n",
    "predictions = []\n",
    "for k in range(len(X)):\n",
    "    if scores[k]>0:\n",
    "        predictions.append(+1)\n",
    "    else:\n",
    "        predictions.append(-1)"
   ]
  },
  {
   "cell_type": "markdown",
   "metadata": {},
   "source": [
    "Now let's plot our results!"
   ]
  },
  {
   "cell_type": "code",
   "execution_count": 18,
   "metadata": {
    "collapsed": false
   },
   "outputs": [
    {
     "data": {
      "image/png": "[encoded data removed]",
      "text/plain": [
       "<matplotlib.figure.Figure at 0xb938240>"
      ]
     },
     "metadata": {},
     "output_type": "display_data"
    },
    {
     "name": "stdout",
     "output_type": "stream",
     "text": [
      "Accuracy: 0.96\n"
     ]
    }
   ],
   "source": [
    "#### PLOT ADABOOST RESULTS\n",
    "\n",
    "# training data\n",
    "X = np.concatenate((X1,X2),axis=1)\n",
    "\n",
    "# get predicted\n",
    "predicted = predictions\n",
    "predicted = np.matrix(predicted).transpose()\n",
    "\n",
    "# compute masks for plotting\n",
    "mask1 = predicted!=+1\n",
    "mask0 = predicted!=-1\n",
    "\n",
    "# reformat for plotting\n",
    "X1f = X[:,0].flatten()\n",
    "X2f = X[:,1].flatten()\n",
    "\n",
    "# plot results\n",
    "plt.scatter(X1f[mask1.ravel()], X2f[mask1.ravel()],c='red')\n",
    "plt.scatter(X1f[mask0.ravel()], X2f[mask0.ravel()],c='blue')\n",
    "plt.title('Fake Data Plot')\n",
    "plt.xlabel(\"Data (X1)\")\n",
    "plt.ylabel(\"Data (X2)\")\n",
    "plt.show()\n",
    "\n",
    "# compute and print accuracy\n",
    "correct = 0\n",
    "for i in range(len(Y)):\n",
    "    if Y[i,]==predicted[i,]:\n",
    "        correct += 1\n",
    "print \"Accuracy:\",correct / float(len(Y))"
   ]
  },
  {
   "cell_type": "markdown",
   "metadata": {
    "collapsed": true
   },
   "source": [
    "Great!  96% on training!  That's pretty awesome that we did it!  Obviously we don't know how it generalizes, but this was not in scope for this workbook.  The main thing I wanted to do was code it up from scratch and show it working properly, which we did!  Hooray! "
   ]
  },
  {
   "cell_type": "code",
   "execution_count": null,
   "metadata": {
    "collapsed": true
   },
   "outputs": [],
   "source": []
  }
 ],
 "metadata": {
  "kernelspec": {
   "display_name": "Python 2",
   "language": "python",
   "name": "python2"
  },
  "language_info": {
   "codemirror_mode": {
    "name": "ipython",
    "version": 2
   },
   "file_extension": ".py",
   "mimetype": "text/x-python",
   "name": "python",
   "nbconvert_exporter": "python",
   "pygments_lexer": "ipython2",
   "version": "2.7.11"
  }
 },
 "nbformat": 4,
 "nbformat_minor": 0
}
