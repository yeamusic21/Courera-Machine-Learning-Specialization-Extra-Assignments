{
 "cells": [
  {
   "cell_type": "markdown",
   "metadata": {},
   "source": [
    "# Simple Linear Regression using Mini-Batch Stochastic Gradient Descent and Least Squares"
   ]
  },
  {
   "cell_type": "markdown",
   "metadata": {},
   "source": [
    "The point of this workbook is to create a line and add fake noise, then solve for the true line using stochastic gradient descent.  This workbook was created prior to Coursera assignments to limit any guidance and to solve using own personal methods for extra learning.  \n",
    "\n",
    "Algorithm for Stochastic Gradient Descent being used here is almost the same as the algorithm described in Coursera lecture except my convergence criteria just uses \"early stopping\" which is very easy to code and powerful tactic to control for overfitting.\n",
    "\n",
    "Algorithm can be found in Coursera Machine Learning Specialization Classification course, Week7 \"(Optional) Learning from batches of data\" video.\n",
    "<br>\n",
    "<img src=\"https://github.com/yeamusic21/Coursera-Machine-Learning-Specialization-Extra-Assignments/blob/master/Classification/img/mini_batch_sgd_algorithm.PNG?raw=true\">\n",
    "\n",
    "Also here notice that we're using gradient descent for linear regression and not gradient ascent for logistic regression.   "
   ]
  },
  {
   "cell_type": "markdown",
   "metadata": {},
   "source": [
    "## Part 1:"
   ]
  },
  {
   "cell_type": "markdown",
   "metadata": {},
   "source": [
    "## Create Some Fake Data to Fit"
   ]
  },
  {
   "cell_type": "code",
   "execution_count": 9,
   "metadata": {
    "collapsed": false
   },
   "outputs": [
    {
     "data": {
      "image/png": "[encoded data removed]",
      "text/plain": [
       "<matplotlib.figure.Figure at 0xd9ba860>"
      ]
     },
     "metadata": {},
     "output_type": "display_data"
    }
   ],
   "source": [
    "#### CREATE FAKE DATA\n",
    "\n",
    "# imports\n",
    "import numpy as np\n",
    "import matplotlib.pyplot as plt\n",
    "%matplotlib inline\n",
    "\n",
    "# simulate some data\n",
    "column1 = np.repeat(1, 100)\n",
    "column2 = np.arange(-5,5,0.1)\n",
    "X = np.matrix([column1,column2])\n",
    "X = X.transpose()\n",
    "# make up some parameters\n",
    "B = np.matrix(np.array([9.345,3.961]))\n",
    "B = B.transpose()\n",
    "# create some fake noise\n",
    "e = np.matrix(np.random.normal(0, 3, 100))\n",
    "e = e.transpose()\n",
    "# finally, create fake response data\n",
    "Y = X*B + e\n",
    "\n",
    "# plot our fake data to make sure it looks as we would expect (linear relationship with noise)\n",
    "plt.scatter(X[:,1], Y)\n",
    "plt.title('Fake Data Scatter Plot')\n",
    "plt.xlabel(\"Data (X)\")\n",
    "plt.ylabel(\"Response (Y)\")\n",
    "plt.show()"
   ]
  },
  {
   "cell_type": "markdown",
   "metadata": {},
   "source": [
    "## Solve for coefficients using Mini-Batch Stochastic Gradient Descent & batch size = 10"
   ]
  },
  {
   "cell_type": "code",
   "execution_count": 51,
   "metadata": {
    "collapsed": false
   },
   "outputs": [
    {
     "name": "stdout",
     "output_type": "stream",
     "text": [
      "The estimated Coefficients are:\n",
      "[[ 8.09734011]\n",
      " [ 3.87995974]]\n",
      "The true Coefficients are:\n",
      "[[ 9.345]\n",
      " [ 3.961]]\n"
     ]
    },
    {
     "data": {
      "image/png": "[encoded data removed]",
      "text/plain": [
       "<matplotlib.figure.Figure at 0x1684b630>"
      ]
     },
     "metadata": {},
     "output_type": "display_data"
    },
    {
     "name": "stdout",
     "output_type": "stream",
     "text": [
      "total iterations to convergence:\n"
     ]
    },
    {
     "data": {
      "text/plain": [
       "1010"
      ]
     },
     "execution_count": 51,
     "metadata": {},
     "output_type": "execute_result"
    }
   ],
   "source": [
    "#### SOLVE FOR COEFFICIENTS USING GRADIENT DESCENT & LEAST SQUARES\n",
    "\n",
    "# initialize coefficients \n",
    "Bhat = np.matrix(np.array([1.0,1.0]))\n",
    "Bhat = Bhat.transpose()\n",
    "# initialize convergence flag\n",
    "convergence_flag = 0\n",
    "# initalize iteration counter\n",
    "iterations = 0\n",
    "# save RSS history\n",
    "history = []\n",
    "\n",
    "while convergence_flag == 0:\n",
    "    for i in range(1,11):\n",
    "        iterations = iterations + 1\n",
    "        start = i*10-10\n",
    "        end = i*10\n",
    "        # update coefficients\n",
    "        # intercept\n",
    "        residuals = Y[start:end]-(X[start:end,]*Bhat)\n",
    "        residual_sum = residuals.sum()\n",
    "        Bhat[0,] = Bhat[0,:] + 2*(0.0001)*(residual_sum)\n",
    "        # slope\n",
    "        residual_sum = residuals.transpose()*X[start:end,1]\n",
    "        Bhat[1,] = Bhat[1,:] + 2*(0.0001)*(residual_sum)    \n",
    "        # compute RSS   \n",
    "        #residuals = Y[start:end]-(X[start:end,]*Bhat)\n",
    "        residuals = Y-(X*Bhat)\n",
    "        RS = np.square(residuals)\n",
    "        RSS = RS.sum()\n",
    "        # save RSS history\n",
    "        history.append(RSS)\n",
    "    # check for convergence\n",
    "    if iterations>1000:\n",
    "        convergence_flag = 1\n",
    "\n",
    "# print estimated coefficients     \n",
    "print \"The estimated Coefficients are:\"\n",
    "print Bhat\n",
    "# print true coefficients\n",
    "print \"The true Coefficients are:\"\n",
    "print B\n",
    "\n",
    "plt.scatter(X[:,1], Y)\n",
    "plt.plot(X[:,1], X*Bhat, linewidth=2.0)\n",
    "plt.title('Search Scatter Plot')\n",
    "plt.xlabel(\"Data (X)\")\n",
    "plt.ylabel(\"Response (Y)\")\n",
    "plt.show()\n",
    "\n",
    "print \"total iterations to convergence:\"\n",
    "iterations"
   ]
  },
  {
   "cell_type": "markdown",
   "metadata": {},
   "source": [
    "## Show RSS history over time"
   ]
  },
  {
   "cell_type": "markdown",
   "metadata": {},
   "source": [
    "The point of this is to see how stochastic GD doesn't always move is the right direction, but generally it does."
   ]
  },
  {
   "cell_type": "code",
   "execution_count": 55,
   "metadata": {
    "collapsed": false
   },
   "outputs": [
    {
     "data": {
      "image/png": "[encoded data removed]",
      "text/plain": [
       "<matplotlib.figure.Figure at 0x160c7358>"
      ]
     },
     "metadata": {},
     "output_type": "display_data"
    }
   ],
   "source": [
    "plt.plot(range(1,iterations+1),history,linewidth=1.5)\n",
    "plt.title('Search for Minimum RSS')\n",
    "plt.xlabel(\"Iteration # (X)\")\n",
    "plt.ylabel(\"RSS (Y)\")\n",
    "plt.show()"
   ]
  },
  {
   "cell_type": "code",
   "execution_count": 56,
   "metadata": {
    "collapsed": false
   },
   "outputs": [
    {
     "data": {
      "text/plain": [
       "[1235.9529153373435,\n",
       " 1234.6535149462372,\n",
       " 1234.2011568858086,\n",
       " 1233.4960576940493,\n",
       " 1233.7534691963285,\n",
       " 1233.4125944402269,\n",
       " 1232.0046381127468,\n",
       " 1231.5516122026904,\n",
       " 1231.5917494604591,\n",
       " 1230.7987516450214,\n",
       " 1231.0774345191755,\n",
       " 1229.8094981331362,\n",
       " 1229.3735043808215,\n",
       " 1228.6903525869734,\n",
       " 1228.951096485323,\n",
       " 1228.6272482928982,\n",
       " 1227.2590274453325,\n",
       " 1226.8269251893528,\n",
       " 1226.8782672958914,\n",
       " 1226.1083798560662]"
      ]
     },
     "execution_count": 56,
     "metadata": {},
     "output_type": "execute_result"
    }
   ],
   "source": [
    "history[990:1010]"
   ]
  },
  {
   "cell_type": "markdown",
   "metadata": {},
   "source": [
    "## Part 2:"
   ]
  },
  {
   "cell_type": "markdown",
   "metadata": {},
   "source": [
    "## Solve for coefficients using MIni-Batch Stochastic Gradient Descent & batch size = 5"
   ]
  },
  {
   "cell_type": "code",
   "execution_count": 63,
   "metadata": {
    "collapsed": false
   },
   "outputs": [
    {
     "name": "stdout",
     "output_type": "stream",
     "text": [
      "The estimated Coefficients are:\n",
      "[[ 10.08461244]\n",
      " [  4.15241953]]\n",
      "The true Coefficients are:\n",
      "[[ 9.345]\n",
      " [ 3.961]]\n"
     ]
    },
    {
     "data": {
      "image/png": "[encoded data removed]",
      "text/plain": [
       "<matplotlib.figure.Figure at 0x159a1f98>"
      ]
     },
     "metadata": {},
     "output_type": "display_data"
    },
    {
     "name": "stdout",
     "output_type": "stream",
     "text": [
      "total iterations to convergence:\n"
     ]
    },
    {
     "data": {
      "text/plain": [
       "50005"
      ]
     },
     "execution_count": 63,
     "metadata": {},
     "output_type": "execute_result"
    }
   ],
   "source": [
    "#### SOLVE FOR COEFFICIENTS USING GRADIENT DESCENT & LEAST SQUARES\n",
    "\n",
    "# initialize coefficients \n",
    "Bhat = np.matrix(np.array([1.0,1.0]))\n",
    "Bhat = Bhat.transpose()\n",
    "# initialize convergence flag\n",
    "convergence_flag = 0\n",
    "# initalize iteration counter\n",
    "iterations = 0\n",
    "# save RSS history\n",
    "history = []\n",
    "# batch size\n",
    "batch = 5\n",
    "\n",
    "while convergence_flag == 0:\n",
    "    for i in range(1,batch+1):\n",
    "        iterations = iterations + 1\n",
    "        start = i*batch-batch\n",
    "        end = i*batch\n",
    "        # update coefficients\n",
    "        # intercept\n",
    "        residuals = Y[start:end]-(X[start:end,]*Bhat)\n",
    "        residual_sum = residuals.sum()\n",
    "        Bhat[0,] = Bhat[0,:] + 2*(0.0001)*(residual_sum)\n",
    "        # slope\n",
    "        residual_sum = residuals.transpose()*X[start:end,1]\n",
    "        Bhat[1,] = Bhat[1,:] + 2*(0.0001)*(residual_sum)    \n",
    "        # compute RSS   \n",
    "        #residuals = Y[start:end]-(X[start:end,]*Bhat)\n",
    "        residuals = Y-(X*Bhat)\n",
    "        RS = np.square(residuals)\n",
    "        RSS = RS.sum()\n",
    "        # save RSS history\n",
    "        history.append(RSS)\n",
    "    # check for convergence\n",
    "    if iterations>50000:\n",
    "        convergence_flag = 1\n",
    "\n",
    "# print estimated coefficients     \n",
    "print \"The estimated Coefficients are:\"\n",
    "print Bhat\n",
    "# print true coefficients\n",
    "print \"The true Coefficients are:\"\n",
    "print B\n",
    "\n",
    "plt.scatter(X[:,1], Y)\n",
    "plt.plot(X[:,1], X*Bhat, linewidth=2.0)\n",
    "plt.title('Search Scatter Plot')\n",
    "plt.xlabel(\"Data (X)\")\n",
    "plt.ylabel(\"Response (Y)\")\n",
    "plt.show()\n",
    "\n",
    "print \"total iterations to convergence:\"\n",
    "iterations"
   ]
  },
  {
   "cell_type": "markdown",
   "metadata": {},
   "source": [
    "## Show RSS history over time"
   ]
  },
  {
   "cell_type": "code",
   "execution_count": 64,
   "metadata": {
    "collapsed": false
   },
   "outputs": [
    {
     "data": {
      "image/png": "[encoded data removed]",
      "text/plain": [
       "<matplotlib.figure.Figure at 0x15d46160>"
      ]
     },
     "metadata": {},
     "output_type": "display_data"
    }
   ],
   "source": [
    "plt.plot(range(1,iterations+1),history,linewidth=0.5)\n",
    "plt.title('Search for Minimum RSS')\n",
    "plt.xlabel(\"Iteration # (X)\")\n",
    "plt.ylabel(\"RSS (Y)\")\n",
    "plt.show()"
   ]
  },
  {
   "cell_type": "code",
   "execution_count": 66,
   "metadata": {
    "collapsed": false
   },
   "outputs": [
    {
     "data": {
      "text/plain": [
       "[1261.318898238156,\n",
       " 1262.5703363886596,\n",
       " 1257.9505721664948,\n",
       " 1257.2362325613353,\n",
       " 1257.9597595601226,\n",
       " 1261.428058246189,\n",
       " 1262.6798330431229,\n",
       " 1258.0585932158299,\n",
       " 1257.3440902751984,\n",
       " 1258.0679683889343,\n",
       " 1261.5372407847383,\n",
       " 1262.7893521326569,\n",
       " 1258.1666369551358,\n",
       " 1257.451970755845,\n",
       " 1258.1762000003107]"
      ]
     },
     "execution_count": 66,
     "metadata": {},
     "output_type": "execute_result"
    }
   ],
   "source": [
    "history[49990:50010]"
   ]
  },
  {
   "cell_type": "markdown",
   "metadata": {},
   "source": [
    "We can see that batch size of 10 converges faster than mini batch size of 5.  We can only imagine batch size of 1 would take even longer.  \"Picking the right batch size make a big difference\".  We can see this is true here."
   ]
  },
  {
   "cell_type": "code",
   "execution_count": null,
   "metadata": {
    "collapsed": true
   },
   "outputs": [],
   "source": []
  }
 ],
 "metadata": {
  "kernelspec": {
   "display_name": "Python 2",
   "language": "python",
   "name": "python2"
  },
  "language_info": {
   "codemirror_mode": {
    "name": "ipython",
    "version": 2
   },
   "file_extension": ".py",
   "mimetype": "text/x-python",
   "name": "python",
   "nbconvert_exporter": "python",
   "pygments_lexer": "ipython2",
   "version": "2.7.11"
  }
 },
 "nbformat": 4,
 "nbformat_minor": 0
}
